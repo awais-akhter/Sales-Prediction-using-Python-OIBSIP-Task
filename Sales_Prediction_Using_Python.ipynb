{
  "cells": [
    {
      "cell_type": "markdown",
      "id": "cf018024-46e8-40f0-b762-e517d5f5e0a9",
      "metadata": {
        "id": "cf018024-46e8-40f0-b762-e517d5f5e0a9"
      },
      "source": [
        "#### Name : Muhammad Awais Akhter\n",
        "##### Data Science Intern  \n",
        "##### Oasis Infobyte - October P-1\n",
        "##### Task 5 - Sales Prediction using Python\n",
        "\n"
      ]
    },
    {
      "cell_type": "code",
      "execution_count": 12,
      "id": "77e49eac-719f-44ff-a279-5a4fe867a1db",
      "metadata": {
        "id": "77e49eac-719f-44ff-a279-5a4fe867a1db"
      },
      "outputs": [],
      "source": [
        "#importing necessary libraries\n",
        "import numpy as np\n",
        "import pandas as pd\n",
        "import warnings\n",
        "warnings.filterwarnings('ignore')\n",
        "#importing libraries for visualisation\n",
        "import matplotlib.pyplot as plt\n",
        "from matplotlib import style\n",
        "import seaborn as sns"
      ]
    },
    {
      "cell_type": "code",
      "execution_count": 13,
      "id": "a936f60e-5305-4579-a824-3a658e9eb3d7",
      "metadata": {
        "id": "a936f60e-5305-4579-a824-3a658e9eb3d7"
      },
      "outputs": [],
      "source": [
        "#importing Data\n",
        "data_frame = pd.read_csv('/content/Advertising.csv', index_col = 0)"
      ]
    },
    {
      "cell_type": "markdown",
      "id": "ba5c72ba-024b-4393-89e2-ae91ef8f8492",
      "metadata": {
        "id": "ba5c72ba-024b-4393-89e2-ae91ef8f8492"
      },
      "source": [
        "####  Performing descriptive analysis. Understand the variables and their corresponding values."
      ]
    },
    {
      "cell_type": "code",
      "execution_count": 14,
      "id": "8726857a-5d44-4aa9-93f0-9e98a86d2b5b",
      "metadata": {
        "colab": {
          "base_uri": "https://localhost:8080/"
        },
        "id": "8726857a-5d44-4aa9-93f0-9e98a86d2b5b",
        "outputId": "9b74488e-781e-466f-c3bb-2911575aa23d"
      },
      "outputs": [
        {
          "output_type": "execute_result",
          "data": {
            "text/plain": [
              "(200, 4)"
            ]
          },
          "metadata": {},
          "execution_count": 14
        }
      ],
      "source": [
        "# Understanding the dimensions of data\n",
        "data_frame.shape"
      ]
    },
    {
      "cell_type": "code",
      "execution_count": 15,
      "id": "ceb01897-2d1f-4eea-a0ac-0b32a20451fd",
      "metadata": {
        "colab": {
          "base_uri": "https://localhost:8080/"
        },
        "id": "ceb01897-2d1f-4eea-a0ac-0b32a20451fd",
        "outputId": "b0f3efd3-e2ca-4a07-89b3-048fe161c5da"
      },
      "outputs": [
        {
          "output_type": "stream",
          "name": "stdout",
          "text": [
            "<class 'pandas.core.frame.DataFrame'>\n",
            "Int64Index: 200 entries, 1 to 200\n",
            "Data columns (total 4 columns):\n",
            " #   Column     Non-Null Count  Dtype  \n",
            "---  ------     --------------  -----  \n",
            " 0   TV         200 non-null    float64\n",
            " 1   Radio      200 non-null    float64\n",
            " 2   Newspaper  200 non-null    float64\n",
            " 3   Sales      200 non-null    float64\n",
            "dtypes: float64(4)\n",
            "memory usage: 7.8 KB\n"
          ]
        }
      ],
      "source": [
        "# Understanding the Data Variables\n",
        "data_frame.info()"
      ]
    },
    {
      "cell_type": "code",
      "execution_count": 16,
      "id": "4b377503-f89e-4303-a743-d2b08ea5b506",
      "metadata": {
        "colab": {
          "base_uri": "https://localhost:8080/"
        },
        "id": "4b377503-f89e-4303-a743-d2b08ea5b506",
        "outputId": "fe1147cf-c861-409c-d183-b65fd2176720"
      },
      "outputs": [
        {
          "output_type": "execute_result",
          "data": {
            "text/plain": [
              "Index(['TV', 'Radio', 'Newspaper', 'Sales'], dtype='object')"
            ]
          },
          "metadata": {},
          "execution_count": 16
        }
      ],
      "source": [
        "data_frame.columns"
      ]
    },
    {
      "cell_type": "markdown",
      "id": "631d6c42-c049-4724-8df9-338c41542896",
      "metadata": {
        "id": "631d6c42-c049-4724-8df9-338c41542896"
      },
      "source": [
        "###### The company spent their budget for differnt products on 3 advertising medias such as TV, Radio, Newspaper and the corresponding sales for each product"
      ]
    },
    {
      "cell_type": "code",
      "execution_count": 18,
      "id": "87001251-464c-45d1-b3c6-358eb03c389c",
      "metadata": {
        "colab": {
          "base_uri": "https://localhost:8080/",
          "height": 206
        },
        "id": "87001251-464c-45d1-b3c6-358eb03c389c",
        "outputId": "bf0b50d8-c759-4b1e-b471-59da335235c3"
      },
      "outputs": [
        {
          "output_type": "execute_result",
          "data": {
            "text/plain": [
              "      TV  Radio  Newspaper  Sales\n",
              "1  230.1   37.8       69.2   22.1\n",
              "2   44.5   39.3       45.1   10.4\n",
              "3   17.2   45.9       69.3    9.3\n",
              "4  151.5   41.3       58.5   18.5\n",
              "5  180.8   10.8       58.4   12.9"
            ],
            "text/html": [
              "\n",
              "  <div id=\"df-5dab1e79-abc6-41fc-b1bf-bc85c0b7e908\" class=\"colab-df-container\">\n",
              "    <div>\n",
              "<style scoped>\n",
              "    .dataframe tbody tr th:only-of-type {\n",
              "        vertical-align: middle;\n",
              "    }\n",
              "\n",
              "    .dataframe tbody tr th {\n",
              "        vertical-align: top;\n",
              "    }\n",
              "\n",
              "    .dataframe thead th {\n",
              "        text-align: right;\n",
              "    }\n",
              "</style>\n",
              "<table border=\"1\" class=\"dataframe\">\n",
              "  <thead>\n",
              "    <tr style=\"text-align: right;\">\n",
              "      <th></th>\n",
              "      <th>TV</th>\n",
              "      <th>Radio</th>\n",
              "      <th>Newspaper</th>\n",
              "      <th>Sales</th>\n",
              "    </tr>\n",
              "  </thead>\n",
              "  <tbody>\n",
              "    <tr>\n",
              "      <th>1</th>\n",
              "      <td>230.1</td>\n",
              "      <td>37.8</td>\n",
              "      <td>69.2</td>\n",
              "      <td>22.1</td>\n",
              "    </tr>\n",
              "    <tr>\n",
              "      <th>2</th>\n",
              "      <td>44.5</td>\n",
              "      <td>39.3</td>\n",
              "      <td>45.1</td>\n",
              "      <td>10.4</td>\n",
              "    </tr>\n",
              "    <tr>\n",
              "      <th>3</th>\n",
              "      <td>17.2</td>\n",
              "      <td>45.9</td>\n",
              "      <td>69.3</td>\n",
              "      <td>9.3</td>\n",
              "    </tr>\n",
              "    <tr>\n",
              "      <th>4</th>\n",
              "      <td>151.5</td>\n",
              "      <td>41.3</td>\n",
              "      <td>58.5</td>\n",
              "      <td>18.5</td>\n",
              "    </tr>\n",
              "    <tr>\n",
              "      <th>5</th>\n",
              "      <td>180.8</td>\n",
              "      <td>10.8</td>\n",
              "      <td>58.4</td>\n",
              "      <td>12.9</td>\n",
              "    </tr>\n",
              "  </tbody>\n",
              "</table>\n",
              "</div>\n",
              "    <div class=\"colab-df-buttons\">\n",
              "\n",
              "  <div class=\"colab-df-container\">\n",
              "    <button class=\"colab-df-convert\" onclick=\"convertToInteractive('df-5dab1e79-abc6-41fc-b1bf-bc85c0b7e908')\"\n",
              "            title=\"Convert this dataframe to an interactive table.\"\n",
              "            style=\"display:none;\">\n",
              "\n",
              "  <svg xmlns=\"http://www.w3.org/2000/svg\" height=\"24px\" viewBox=\"0 -960 960 960\">\n",
              "    <path d=\"M120-120v-720h720v720H120Zm60-500h600v-160H180v160Zm220 220h160v-160H400v160Zm0 220h160v-160H400v160ZM180-400h160v-160H180v160Zm440 0h160v-160H620v160ZM180-180h160v-160H180v160Zm440 0h160v-160H620v160Z\"/>\n",
              "  </svg>\n",
              "    </button>\n",
              "\n",
              "  <style>\n",
              "    .colab-df-container {\n",
              "      display:flex;\n",
              "      gap: 12px;\n",
              "    }\n",
              "\n",
              "    .colab-df-convert {\n",
              "      background-color: #E8F0FE;\n",
              "      border: none;\n",
              "      border-radius: 50%;\n",
              "      cursor: pointer;\n",
              "      display: none;\n",
              "      fill: #1967D2;\n",
              "      height: 32px;\n",
              "      padding: 0 0 0 0;\n",
              "      width: 32px;\n",
              "    }\n",
              "\n",
              "    .colab-df-convert:hover {\n",
              "      background-color: #E2EBFA;\n",
              "      box-shadow: 0px 1px 2px rgba(60, 64, 67, 0.3), 0px 1px 3px 1px rgba(60, 64, 67, 0.15);\n",
              "      fill: #174EA6;\n",
              "    }\n",
              "\n",
              "    .colab-df-buttons div {\n",
              "      margin-bottom: 4px;\n",
              "    }\n",
              "\n",
              "    [theme=dark] .colab-df-convert {\n",
              "      background-color: #3B4455;\n",
              "      fill: #D2E3FC;\n",
              "    }\n",
              "\n",
              "    [theme=dark] .colab-df-convert:hover {\n",
              "      background-color: #434B5C;\n",
              "      box-shadow: 0px 1px 3px 1px rgba(0, 0, 0, 0.15);\n",
              "      filter: drop-shadow(0px 1px 2px rgba(0, 0, 0, 0.3));\n",
              "      fill: #FFFFFF;\n",
              "    }\n",
              "  </style>\n",
              "\n",
              "    <script>\n",
              "      const buttonEl =\n",
              "        document.querySelector('#df-5dab1e79-abc6-41fc-b1bf-bc85c0b7e908 button.colab-df-convert');\n",
              "      buttonEl.style.display =\n",
              "        google.colab.kernel.accessAllowed ? 'block' : 'none';\n",
              "\n",
              "      async function convertToInteractive(key) {\n",
              "        const element = document.querySelector('#df-5dab1e79-abc6-41fc-b1bf-bc85c0b7e908');\n",
              "        const dataTable =\n",
              "          await google.colab.kernel.invokeFunction('convertToInteractive',\n",
              "                                                    [key], {});\n",
              "        if (!dataTable) return;\n",
              "\n",
              "        const docLinkHtml = 'Like what you see? Visit the ' +\n",
              "          '<a target=\"_blank\" href=https://colab.research.google.com/notebooks/data_table.ipynb>data table notebook</a>'\n",
              "          + ' to learn more about interactive tables.';\n",
              "        element.innerHTML = '';\n",
              "        dataTable['output_type'] = 'display_data';\n",
              "        await google.colab.output.renderOutput(dataTable, element);\n",
              "        const docLink = document.createElement('div');\n",
              "        docLink.innerHTML = docLinkHtml;\n",
              "        element.appendChild(docLink);\n",
              "      }\n",
              "    </script>\n",
              "  </div>\n",
              "\n",
              "\n",
              "<div id=\"df-8c0addd5-1f85-4ea7-863a-077822a8dc65\">\n",
              "  <button class=\"colab-df-quickchart\" onclick=\"quickchart('df-8c0addd5-1f85-4ea7-863a-077822a8dc65')\"\n",
              "            title=\"Suggest charts.\"\n",
              "            style=\"display:none;\">\n",
              "\n",
              "<svg xmlns=\"http://www.w3.org/2000/svg\" height=\"24px\"viewBox=\"0 0 24 24\"\n",
              "     width=\"24px\">\n",
              "    <g>\n",
              "        <path d=\"M19 3H5c-1.1 0-2 .9-2 2v14c0 1.1.9 2 2 2h14c1.1 0 2-.9 2-2V5c0-1.1-.9-2-2-2zM9 17H7v-7h2v7zm4 0h-2V7h2v10zm4 0h-2v-4h2v4z\"/>\n",
              "    </g>\n",
              "</svg>\n",
              "  </button>\n",
              "\n",
              "<style>\n",
              "  .colab-df-quickchart {\n",
              "      --bg-color: #E8F0FE;\n",
              "      --fill-color: #1967D2;\n",
              "      --hover-bg-color: #E2EBFA;\n",
              "      --hover-fill-color: #174EA6;\n",
              "      --disabled-fill-color: #AAA;\n",
              "      --disabled-bg-color: #DDD;\n",
              "  }\n",
              "\n",
              "  [theme=dark] .colab-df-quickchart {\n",
              "      --bg-color: #3B4455;\n",
              "      --fill-color: #D2E3FC;\n",
              "      --hover-bg-color: #434B5C;\n",
              "      --hover-fill-color: #FFFFFF;\n",
              "      --disabled-bg-color: #3B4455;\n",
              "      --disabled-fill-color: #666;\n",
              "  }\n",
              "\n",
              "  .colab-df-quickchart {\n",
              "    background-color: var(--bg-color);\n",
              "    border: none;\n",
              "    border-radius: 50%;\n",
              "    cursor: pointer;\n",
              "    display: none;\n",
              "    fill: var(--fill-color);\n",
              "    height: 32px;\n",
              "    padding: 0;\n",
              "    width: 32px;\n",
              "  }\n",
              "\n",
              "  .colab-df-quickchart:hover {\n",
              "    background-color: var(--hover-bg-color);\n",
              "    box-shadow: 0 1px 2px rgba(60, 64, 67, 0.3), 0 1px 3px 1px rgba(60, 64, 67, 0.15);\n",
              "    fill: var(--button-hover-fill-color);\n",
              "  }\n",
              "\n",
              "  .colab-df-quickchart-complete:disabled,\n",
              "  .colab-df-quickchart-complete:disabled:hover {\n",
              "    background-color: var(--disabled-bg-color);\n",
              "    fill: var(--disabled-fill-color);\n",
              "    box-shadow: none;\n",
              "  }\n",
              "\n",
              "  .colab-df-spinner {\n",
              "    border: 2px solid var(--fill-color);\n",
              "    border-color: transparent;\n",
              "    border-bottom-color: var(--fill-color);\n",
              "    animation:\n",
              "      spin 1s steps(1) infinite;\n",
              "  }\n",
              "\n",
              "  @keyframes spin {\n",
              "    0% {\n",
              "      border-color: transparent;\n",
              "      border-bottom-color: var(--fill-color);\n",
              "      border-left-color: var(--fill-color);\n",
              "    }\n",
              "    20% {\n",
              "      border-color: transparent;\n",
              "      border-left-color: var(--fill-color);\n",
              "      border-top-color: var(--fill-color);\n",
              "    }\n",
              "    30% {\n",
              "      border-color: transparent;\n",
              "      border-left-color: var(--fill-color);\n",
              "      border-top-color: var(--fill-color);\n",
              "      border-right-color: var(--fill-color);\n",
              "    }\n",
              "    40% {\n",
              "      border-color: transparent;\n",
              "      border-right-color: var(--fill-color);\n",
              "      border-top-color: var(--fill-color);\n",
              "    }\n",
              "    60% {\n",
              "      border-color: transparent;\n",
              "      border-right-color: var(--fill-color);\n",
              "    }\n",
              "    80% {\n",
              "      border-color: transparent;\n",
              "      border-right-color: var(--fill-color);\n",
              "      border-bottom-color: var(--fill-color);\n",
              "    }\n",
              "    90% {\n",
              "      border-color: transparent;\n",
              "      border-bottom-color: var(--fill-color);\n",
              "    }\n",
              "  }\n",
              "</style>\n",
              "\n",
              "  <script>\n",
              "    async function quickchart(key) {\n",
              "      const quickchartButtonEl =\n",
              "        document.querySelector('#' + key + ' button');\n",
              "      quickchartButtonEl.disabled = true;  // To prevent multiple clicks.\n",
              "      quickchartButtonEl.classList.add('colab-df-spinner');\n",
              "      try {\n",
              "        const charts = await google.colab.kernel.invokeFunction(\n",
              "            'suggestCharts', [key], {});\n",
              "      } catch (error) {\n",
              "        console.error('Error during call to suggestCharts:', error);\n",
              "      }\n",
              "      quickchartButtonEl.classList.remove('colab-df-spinner');\n",
              "      quickchartButtonEl.classList.add('colab-df-quickchart-complete');\n",
              "    }\n",
              "    (() => {\n",
              "      let quickchartButtonEl =\n",
              "        document.querySelector('#df-8c0addd5-1f85-4ea7-863a-077822a8dc65 button');\n",
              "      quickchartButtonEl.style.display =\n",
              "        google.colab.kernel.accessAllowed ? 'block' : 'none';\n",
              "    })();\n",
              "  </script>\n",
              "</div>\n",
              "    </div>\n",
              "  </div>\n"
            ]
          },
          "metadata": {},
          "execution_count": 18
        }
      ],
      "source": [
        "# Show the top 5 Rows of data\n",
        "data_frame.head()"
      ]
    },
    {
      "cell_type": "code",
      "execution_count": 19,
      "id": "c3e8110f-713d-4335-982e-c8f7b05bda16",
      "metadata": {
        "colab": {
          "base_uri": "https://localhost:8080/",
          "height": 175
        },
        "id": "c3e8110f-713d-4335-982e-c8f7b05bda16",
        "outputId": "7717d856-53b9-4535-df4f-1f865ce2d03c"
      },
      "outputs": [
        {
          "output_type": "execute_result",
          "data": {
            "text/plain": [
              "           count      mean        std  min     25%     50%      75%    max\n",
              "TV         200.0  147.0425  85.854236  0.7  74.375  149.75  218.825  296.4\n",
              "Radio      200.0   23.2640  14.846809  0.0   9.975   22.90   36.525   49.6\n",
              "Newspaper  200.0   30.5540  21.778621  0.3  12.750   25.75   45.100  114.0\n",
              "Sales      200.0   14.0225   5.217457  1.6  10.375   12.90   17.400   27.0"
            ],
            "text/html": [
              "\n",
              "  <div id=\"df-b7094ae9-26f7-48fd-8941-ba943067b1c6\" class=\"colab-df-container\">\n",
              "    <div>\n",
              "<style scoped>\n",
              "    .dataframe tbody tr th:only-of-type {\n",
              "        vertical-align: middle;\n",
              "    }\n",
              "\n",
              "    .dataframe tbody tr th {\n",
              "        vertical-align: top;\n",
              "    }\n",
              "\n",
              "    .dataframe thead th {\n",
              "        text-align: right;\n",
              "    }\n",
              "</style>\n",
              "<table border=\"1\" class=\"dataframe\">\n",
              "  <thead>\n",
              "    <tr style=\"text-align: right;\">\n",
              "      <th></th>\n",
              "      <th>count</th>\n",
              "      <th>mean</th>\n",
              "      <th>std</th>\n",
              "      <th>min</th>\n",
              "      <th>25%</th>\n",
              "      <th>50%</th>\n",
              "      <th>75%</th>\n",
              "      <th>max</th>\n",
              "    </tr>\n",
              "  </thead>\n",
              "  <tbody>\n",
              "    <tr>\n",
              "      <th>TV</th>\n",
              "      <td>200.0</td>\n",
              "      <td>147.0425</td>\n",
              "      <td>85.854236</td>\n",
              "      <td>0.7</td>\n",
              "      <td>74.375</td>\n",
              "      <td>149.75</td>\n",
              "      <td>218.825</td>\n",
              "      <td>296.4</td>\n",
              "    </tr>\n",
              "    <tr>\n",
              "      <th>Radio</th>\n",
              "      <td>200.0</td>\n",
              "      <td>23.2640</td>\n",
              "      <td>14.846809</td>\n",
              "      <td>0.0</td>\n",
              "      <td>9.975</td>\n",
              "      <td>22.90</td>\n",
              "      <td>36.525</td>\n",
              "      <td>49.6</td>\n",
              "    </tr>\n",
              "    <tr>\n",
              "      <th>Newspaper</th>\n",
              "      <td>200.0</td>\n",
              "      <td>30.5540</td>\n",
              "      <td>21.778621</td>\n",
              "      <td>0.3</td>\n",
              "      <td>12.750</td>\n",
              "      <td>25.75</td>\n",
              "      <td>45.100</td>\n",
              "      <td>114.0</td>\n",
              "    </tr>\n",
              "    <tr>\n",
              "      <th>Sales</th>\n",
              "      <td>200.0</td>\n",
              "      <td>14.0225</td>\n",
              "      <td>5.217457</td>\n",
              "      <td>1.6</td>\n",
              "      <td>10.375</td>\n",
              "      <td>12.90</td>\n",
              "      <td>17.400</td>\n",
              "      <td>27.0</td>\n",
              "    </tr>\n",
              "  </tbody>\n",
              "</table>\n",
              "</div>\n",
              "    <div class=\"colab-df-buttons\">\n",
              "\n",
              "  <div class=\"colab-df-container\">\n",
              "    <button class=\"colab-df-convert\" onclick=\"convertToInteractive('df-b7094ae9-26f7-48fd-8941-ba943067b1c6')\"\n",
              "            title=\"Convert this dataframe to an interactive table.\"\n",
              "            style=\"display:none;\">\n",
              "\n",
              "  <svg xmlns=\"http://www.w3.org/2000/svg\" height=\"24px\" viewBox=\"0 -960 960 960\">\n",
              "    <path d=\"M120-120v-720h720v720H120Zm60-500h600v-160H180v160Zm220 220h160v-160H400v160Zm0 220h160v-160H400v160ZM180-400h160v-160H180v160Zm440 0h160v-160H620v160ZM180-180h160v-160H180v160Zm440 0h160v-160H620v160Z\"/>\n",
              "  </svg>\n",
              "    </button>\n",
              "\n",
              "  <style>\n",
              "    .colab-df-container {\n",
              "      display:flex;\n",
              "      gap: 12px;\n",
              "    }\n",
              "\n",
              "    .colab-df-convert {\n",
              "      background-color: #E8F0FE;\n",
              "      border: none;\n",
              "      border-radius: 50%;\n",
              "      cursor: pointer;\n",
              "      display: none;\n",
              "      fill: #1967D2;\n",
              "      height: 32px;\n",
              "      padding: 0 0 0 0;\n",
              "      width: 32px;\n",
              "    }\n",
              "\n",
              "    .colab-df-convert:hover {\n",
              "      background-color: #E2EBFA;\n",
              "      box-shadow: 0px 1px 2px rgba(60, 64, 67, 0.3), 0px 1px 3px 1px rgba(60, 64, 67, 0.15);\n",
              "      fill: #174EA6;\n",
              "    }\n",
              "\n",
              "    .colab-df-buttons div {\n",
              "      margin-bottom: 4px;\n",
              "    }\n",
              "\n",
              "    [theme=dark] .colab-df-convert {\n",
              "      background-color: #3B4455;\n",
              "      fill: #D2E3FC;\n",
              "    }\n",
              "\n",
              "    [theme=dark] .colab-df-convert:hover {\n",
              "      background-color: #434B5C;\n",
              "      box-shadow: 0px 1px 3px 1px rgba(0, 0, 0, 0.15);\n",
              "      filter: drop-shadow(0px 1px 2px rgba(0, 0, 0, 0.3));\n",
              "      fill: #FFFFFF;\n",
              "    }\n",
              "  </style>\n",
              "\n",
              "    <script>\n",
              "      const buttonEl =\n",
              "        document.querySelector('#df-b7094ae9-26f7-48fd-8941-ba943067b1c6 button.colab-df-convert');\n",
              "      buttonEl.style.display =\n",
              "        google.colab.kernel.accessAllowed ? 'block' : 'none';\n",
              "\n",
              "      async function convertToInteractive(key) {\n",
              "        const element = document.querySelector('#df-b7094ae9-26f7-48fd-8941-ba943067b1c6');\n",
              "        const dataTable =\n",
              "          await google.colab.kernel.invokeFunction('convertToInteractive',\n",
              "                                                    [key], {});\n",
              "        if (!dataTable) return;\n",
              "\n",
              "        const docLinkHtml = 'Like what you see? Visit the ' +\n",
              "          '<a target=\"_blank\" href=https://colab.research.google.com/notebooks/data_table.ipynb>data table notebook</a>'\n",
              "          + ' to learn more about interactive tables.';\n",
              "        element.innerHTML = '';\n",
              "        dataTable['output_type'] = 'display_data';\n",
              "        await google.colab.output.renderOutput(dataTable, element);\n",
              "        const docLink = document.createElement('div');\n",
              "        docLink.innerHTML = docLinkHtml;\n",
              "        element.appendChild(docLink);\n",
              "      }\n",
              "    </script>\n",
              "  </div>\n",
              "\n",
              "\n",
              "<div id=\"df-52761787-b3c4-444f-ab94-89324c1a09ce\">\n",
              "  <button class=\"colab-df-quickchart\" onclick=\"quickchart('df-52761787-b3c4-444f-ab94-89324c1a09ce')\"\n",
              "            title=\"Suggest charts.\"\n",
              "            style=\"display:none;\">\n",
              "\n",
              "<svg xmlns=\"http://www.w3.org/2000/svg\" height=\"24px\"viewBox=\"0 0 24 24\"\n",
              "     width=\"24px\">\n",
              "    <g>\n",
              "        <path d=\"M19 3H5c-1.1 0-2 .9-2 2v14c0 1.1.9 2 2 2h14c1.1 0 2-.9 2-2V5c0-1.1-.9-2-2-2zM9 17H7v-7h2v7zm4 0h-2V7h2v10zm4 0h-2v-4h2v4z\"/>\n",
              "    </g>\n",
              "</svg>\n",
              "  </button>\n",
              "\n",
              "<style>\n",
              "  .colab-df-quickchart {\n",
              "      --bg-color: #E8F0FE;\n",
              "      --fill-color: #1967D2;\n",
              "      --hover-bg-color: #E2EBFA;\n",
              "      --hover-fill-color: #174EA6;\n",
              "      --disabled-fill-color: #AAA;\n",
              "      --disabled-bg-color: #DDD;\n",
              "  }\n",
              "\n",
              "  [theme=dark] .colab-df-quickchart {\n",
              "      --bg-color: #3B4455;\n",
              "      --fill-color: #D2E3FC;\n",
              "      --hover-bg-color: #434B5C;\n",
              "      --hover-fill-color: #FFFFFF;\n",
              "      --disabled-bg-color: #3B4455;\n",
              "      --disabled-fill-color: #666;\n",
              "  }\n",
              "\n",
              "  .colab-df-quickchart {\n",
              "    background-color: var(--bg-color);\n",
              "    border: none;\n",
              "    border-radius: 50%;\n",
              "    cursor: pointer;\n",
              "    display: none;\n",
              "    fill: var(--fill-color);\n",
              "    height: 32px;\n",
              "    padding: 0;\n",
              "    width: 32px;\n",
              "  }\n",
              "\n",
              "  .colab-df-quickchart:hover {\n",
              "    background-color: var(--hover-bg-color);\n",
              "    box-shadow: 0 1px 2px rgba(60, 64, 67, 0.3), 0 1px 3px 1px rgba(60, 64, 67, 0.15);\n",
              "    fill: var(--button-hover-fill-color);\n",
              "  }\n",
              "\n",
              "  .colab-df-quickchart-complete:disabled,\n",
              "  .colab-df-quickchart-complete:disabled:hover {\n",
              "    background-color: var(--disabled-bg-color);\n",
              "    fill: var(--disabled-fill-color);\n",
              "    box-shadow: none;\n",
              "  }\n",
              "\n",
              "  .colab-df-spinner {\n",
              "    border: 2px solid var(--fill-color);\n",
              "    border-color: transparent;\n",
              "    border-bottom-color: var(--fill-color);\n",
              "    animation:\n",
              "      spin 1s steps(1) infinite;\n",
              "  }\n",
              "\n",
              "  @keyframes spin {\n",
              "    0% {\n",
              "      border-color: transparent;\n",
              "      border-bottom-color: var(--fill-color);\n",
              "      border-left-color: var(--fill-color);\n",
              "    }\n",
              "    20% {\n",
              "      border-color: transparent;\n",
              "      border-left-color: var(--fill-color);\n",
              "      border-top-color: var(--fill-color);\n",
              "    }\n",
              "    30% {\n",
              "      border-color: transparent;\n",
              "      border-left-color: var(--fill-color);\n",
              "      border-top-color: var(--fill-color);\n",
              "      border-right-color: var(--fill-color);\n",
              "    }\n",
              "    40% {\n",
              "      border-color: transparent;\n",
              "      border-right-color: var(--fill-color);\n",
              "      border-top-color: var(--fill-color);\n",
              "    }\n",
              "    60% {\n",
              "      border-color: transparent;\n",
              "      border-right-color: var(--fill-color);\n",
              "    }\n",
              "    80% {\n",
              "      border-color: transparent;\n",
              "      border-right-color: var(--fill-color);\n",
              "      border-bottom-color: var(--fill-color);\n",
              "    }\n",
              "    90% {\n",
              "      border-color: transparent;\n",
              "      border-bottom-color: var(--fill-color);\n",
              "    }\n",
              "  }\n",
              "</style>\n",
              "\n",
              "  <script>\n",
              "    async function quickchart(key) {\n",
              "      const quickchartButtonEl =\n",
              "        document.querySelector('#' + key + ' button');\n",
              "      quickchartButtonEl.disabled = true;  // To prevent multiple clicks.\n",
              "      quickchartButtonEl.classList.add('colab-df-spinner');\n",
              "      try {\n",
              "        const charts = await google.colab.kernel.invokeFunction(\n",
              "            'suggestCharts', [key], {});\n",
              "      } catch (error) {\n",
              "        console.error('Error during call to suggestCharts:', error);\n",
              "      }\n",
              "      quickchartButtonEl.classList.remove('colab-df-spinner');\n",
              "      quickchartButtonEl.classList.add('colab-df-quickchart-complete');\n",
              "    }\n",
              "    (() => {\n",
              "      let quickchartButtonEl =\n",
              "        document.querySelector('#df-52761787-b3c4-444f-ab94-89324c1a09ce button');\n",
              "      quickchartButtonEl.style.display =\n",
              "        google.colab.kernel.accessAllowed ? 'block' : 'none';\n",
              "    })();\n",
              "  </script>\n",
              "</div>\n",
              "    </div>\n",
              "  </div>\n"
            ]
          },
          "metadata": {},
          "execution_count": 19
        }
      ],
      "source": [
        "# Performing Descriptive Analysis\n",
        "data_frame.describe().T"
      ]
    },
    {
      "cell_type": "code",
      "execution_count": 10,
      "id": "db12256c-8aa1-4534-8167-2364d1a0e231",
      "metadata": {
        "colab": {
          "base_uri": "https://localhost:8080/"
        },
        "id": "db12256c-8aa1-4534-8167-2364d1a0e231",
        "outputId": "e7c09c91-d7b3-43a5-c12b-df14bf8bdcb2"
      },
      "outputs": [
        {
          "output_type": "execute_result",
          "data": {
            "text/plain": [
              "0"
            ]
          },
          "metadata": {},
          "execution_count": 10
        }
      ],
      "source": [
        "# Check for Duplicated Entries\n",
        "data_frame.duplicated().sum()"
      ]
    },
    {
      "cell_type": "markdown",
      "id": "d5280ed6-6663-4f5f-a1a3-7afd91bd4a04",
      "metadata": {
        "id": "d5280ed6-6663-4f5f-a1a3-7afd91bd4a04"
      },
      "source": [
        "#### Outlier Analysis"
      ]
    },
    {
      "cell_type": "code",
      "execution_count": 23,
      "id": "5c1e1dd6-42ab-46cd-9857-2fdd20c6b7e2",
      "metadata": {
        "colab": {
          "base_uri": "https://localhost:8080/",
          "height": 430
        },
        "id": "5c1e1dd6-42ab-46cd-9857-2fdd20c6b7e2",
        "outputId": "cd90a84b-ba28-4e44-c6ab-2993464ae82a"
      },
      "outputs": [
        {
          "output_type": "display_data",
          "data": {
            "text/plain": [
              "<Figure size 640x480 with 1 Axes>"
            ],
            "image/png": "[encoded data removed]"
          },
          "metadata": {}
        }
      ],
      "source": [
        "# Reset the index\n",
        "data_frame = data_frame.reset_index(drop=True)\n",
        "\n",
        "# Create the boxplot\n",
        "fig, axs = plt.subplots(1, 1)\n",
        "plt1 = sns.boxplot(data=data_frame['TV'], ax=axs)\n",
        "plt.show()"
      ]
    },
    {
      "cell_type": "code",
      "execution_count": 24,
      "id": "0671b84e-03c3-4aeb-ad2c-5ce0887c6348",
      "metadata": {
        "colab": {
          "base_uri": "https://localhost:8080/",
          "height": 430
        },
        "id": "0671b84e-03c3-4aeb-ad2c-5ce0887c6348",
        "outputId": "8038d8af-bfa7-4fd4-fa42-e55f79e223af"
      },
      "outputs": [
        {
          "output_type": "display_data",
          "data": {
            "text/plain": [
              "<Figure size 640x480 with 1 Axes>"
            ],
            "image/png": "[encoded data removed]"
          },
          "metadata": {}
        }
      ],
      "source": [
        "fig,axs=plt.subplots(1,1)\n",
        "plt1=sns.boxplot(data_frame['Radio'],ax=axs)"
      ]
    },
    {
      "cell_type": "code",
      "execution_count": 25,
      "id": "3978f0b7-a4f1-4fd3-b16b-3f8a2c467c5c",
      "metadata": {
        "colab": {
          "base_uri": "https://localhost:8080/",
          "height": 430
        },
        "id": "3978f0b7-a4f1-4fd3-b16b-3f8a2c467c5c",
        "outputId": "26607d80-95aa-462b-daea-f6b1b1f07d4a"
      },
      "outputs": [
        {
          "output_type": "display_data",
          "data": {
            "text/plain": [
              "<Figure size 640x480 with 1 Axes>"
            ],
            "image/png": "[encoded data removed]"
          },
          "metadata": {}
        }
      ],
      "source": [
        "fig,axs=plt.subplots(1,1)\n",
        "plt1=sns.boxplot(data_frame['Newspaper'],ax=axs)"
      ]
    },
    {
      "cell_type": "code",
      "execution_count": 26,
      "id": "c494c675-d550-451c-8d7c-9d7c8ef05ff8",
      "metadata": {
        "colab": {
          "base_uri": "https://localhost:8080/",
          "height": 430
        },
        "id": "c494c675-d550-451c-8d7c-9d7c8ef05ff8",
        "outputId": "0967d243-3a9e-4241-8af4-cea60210dbc2"
      },
      "outputs": [
        {
          "output_type": "display_data",
          "data": {
            "text/plain": [
              "<Figure size 640x480 with 1 Axes>"
            ],
            "image/png": "[encoded data removed]"
          },
          "metadata": {}
        }
      ],
      "source": [
        "fig,axs=plt.subplots(1,1)\n",
        "plt1=sns.boxplot(data_frame['Sales'],ax=axs)"
      ]
    },
    {
      "cell_type": "markdown",
      "id": "2e6242bd-9283-4a78-888f-5d082a2166ec",
      "metadata": {
        "id": "2e6242bd-9283-4a78-888f-5d082a2166ec"
      },
      "source": [
        "#### Data Visualization"
      ]
    },
    {
      "cell_type": "markdown",
      "id": "c0d85fe8-48f2-4931-ac44-672062caf67a",
      "metadata": {
        "id": "c0d85fe8-48f2-4931-ac44-672062caf67a"
      },
      "source": [
        "###### Data Visualization helps to  show how the budget spent on each advertising media affect the sales of products"
      ]
    },
    {
      "cell_type": "code",
      "execution_count": 27,
      "id": "9d26829a-338e-4a61-b7c8-400783eebb6d",
      "metadata": {
        "colab": {
          "base_uri": "https://localhost:8080/",
          "height": 405
        },
        "id": "9d26829a-338e-4a61-b7c8-400783eebb6d",
        "outputId": "66514839-a797-4692-ab51-a5bb34579cb2"
      },
      "outputs": [
        {
          "output_type": "execute_result",
          "data": {
            "text/plain": [
              "<Axes: xlabel='TV', ylabel='Sales'>"
            ]
          },
          "metadata": {},
          "execution_count": 27
        },
        {
          "output_type": "display_data",
          "data": {
            "text/plain": [
              "<Figure size 600x400 with 1 Axes>"
            ],
            "image/png": "[encoded data removed]"
          },
          "metadata": {}
        }
      ],
      "source": [
        "#Scatter plot is used find the distribution of effects of each advertising media against Target Sales variable\n",
        "plt.figure(figsize=(6,4))\n",
        "sns.scatterplot(data=data_frame,x=data_frame['TV'],y=data_frame['Sales'])"
      ]
    },
    {
      "cell_type": "code",
      "execution_count": 28,
      "id": "b6b75ea4-011d-489c-98cb-b6ad66e82d05",
      "metadata": {
        "colab": {
          "base_uri": "https://localhost:8080/",
          "height": 405
        },
        "id": "b6b75ea4-011d-489c-98cb-b6ad66e82d05",
        "outputId": "60bf82bb-db56-4d2d-e70b-4c5a6c0a6f2f"
      },
      "outputs": [
        {
          "output_type": "execute_result",
          "data": {
            "text/plain": [
              "<Axes: xlabel='Radio', ylabel='Sales'>"
            ]
          },
          "metadata": {},
          "execution_count": 28
        },
        {
          "output_type": "display_data",
          "data": {
            "text/plain": [
              "<Figure size 600x400 with 1 Axes>"
            ],
            "image/png": "[encoded data removed]"
          },
          "metadata": {}
        }
      ],
      "source": [
        "plt.figure(figsize=(6,4))\n",
        "sns.scatterplot(data=data_frame,x=data_frame['Radio'],y=data_frame['Sales'])"
      ]
    },
    {
      "cell_type": "code",
      "execution_count": 29,
      "id": "94a86485-9b73-4cec-8c26-b47486e80e75",
      "metadata": {
        "colab": {
          "base_uri": "https://localhost:8080/",
          "height": 405
        },
        "id": "94a86485-9b73-4cec-8c26-b47486e80e75",
        "outputId": "cf853130-a3eb-49c3-ec82-733ba1cabe36"
      },
      "outputs": [
        {
          "output_type": "execute_result",
          "data": {
            "text/plain": [
              "<Axes: xlabel='Newspaper', ylabel='Sales'>"
            ]
          },
          "metadata": {},
          "execution_count": 29
        },
        {
          "output_type": "display_data",
          "data": {
            "text/plain": [
              "<Figure size 600x400 with 1 Axes>"
            ],
            "image/png": "[encoded data removed]"
          },
          "metadata": {}
        }
      ],
      "source": [
        "plt.figure(figsize=(6,4))\n",
        "sns.scatterplot(data=data_frame,x=data_frame['Newspaper'],y=data_frame['Sales'])"
      ]
    },
    {
      "cell_type": "markdown",
      "id": "277df475-eba7-4af3-884a-fd57fade7756",
      "metadata": {
        "id": "277df475-eba7-4af3-884a-fd57fade7756"
      },
      "source": [
        "##### * It is seen that TV data set is more linear as compared to other 2 variables ."
      ]
    },
    {
      "cell_type": "markdown",
      "id": "951984fc-2544-46d8-bf96-981accbd3502",
      "metadata": {
        "id": "951984fc-2544-46d8-bf96-981accbd3502"
      },
      "source": [
        "#### Heat Map"
      ]
    },
    {
      "cell_type": "code",
      "execution_count": 30,
      "id": "e6b95540-3e69-4e9e-98dd-b91cff460413",
      "metadata": {
        "id": "e6b95540-3e69-4e9e-98dd-b91cff460413"
      },
      "outputs": [],
      "source": [
        "# find correlation between variables in data set for plotting heatmap\n",
        "df_corr=data_frame.corr()"
      ]
    },
    {
      "cell_type": "code",
      "execution_count": 31,
      "id": "3de9ee61-df69-444c-84c7-a41f12c34252",
      "metadata": {
        "colab": {
          "base_uri": "https://localhost:8080/",
          "height": 528
        },
        "id": "3de9ee61-df69-444c-84c7-a41f12c34252",
        "outputId": "184fb15e-638e-43ee-9f89-d2b14436000c"
      },
      "outputs": [
        {
          "output_type": "display_data",
          "data": {
            "text/plain": [
              "<Figure size 1000x600 with 2 Axes>"
            ],
            "image/png": "[encoded data removed]"
          },
          "metadata": {}
        }
      ],
      "source": [
        "plt.figure(figsize=(10,6))\n",
        "sns.heatmap(df_corr,annot=True,cmap=\"BuPu\")\n",
        "plt.show()"
      ]
    },
    {
      "cell_type": "markdown",
      "id": "4623ac00-f0d2-4068-be39-feecd8431e2c",
      "metadata": {
        "id": "4623ac00-f0d2-4068-be39-feecd8431e2c"
      },
      "source": [
        "##### * We can see that TV variable has highest correlation value with the target Sales variable"
      ]
    },
    {
      "cell_type": "markdown",
      "id": "f607f321-5432-4b87-b257-6c79cbeddbc3",
      "metadata": {
        "id": "f607f321-5432-4b87-b257-6c79cbeddbc3"
      },
      "source": [
        "#### Building the Forecasting Model"
      ]
    },
    {
      "cell_type": "code",
      "execution_count": 32,
      "id": "68931be8-8c7f-4dfa-ba6a-4e99979317af",
      "metadata": {
        "id": "68931be8-8c7f-4dfa-ba6a-4e99979317af"
      },
      "outputs": [],
      "source": [
        "from sklearn.model_selection import train_test_split"
      ]
    },
    {
      "cell_type": "code",
      "execution_count": 33,
      "id": "bc018773-7443-4286-bcb2-af19a2ae9099",
      "metadata": {
        "id": "bc018773-7443-4286-bcb2-af19a2ae9099"
      },
      "outputs": [],
      "source": [
        "#First step in building the forecasting model is to identify the Feature(Input) variables and Target (Output) variable\n",
        "features = data_frame[['TV', 'Radio', 'Newspaper']]\n",
        "target = data_frame[['Sales']]"
      ]
    },
    {
      "cell_type": "markdown",
      "id": "be3f802c-bdce-4131-a7be-2d16fdc86e24",
      "metadata": {
        "id": "be3f802c-bdce-4131-a7be-2d16fdc86e24"
      },
      "source": [
        "#####  * Splitting data for training and testing the model"
      ]
    },
    {
      "cell_type": "code",
      "execution_count": 34,
      "id": "2c023382-4dd5-4b23-b7f5-9dca4a8b84b8",
      "metadata": {
        "colab": {
          "base_uri": "https://localhost:8080/"
        },
        "id": "2c023382-4dd5-4b23-b7f5-9dca4a8b84b8",
        "outputId": "56cb8a0f-c7cc-4050-f475-a132f8ff0314"
      },
      "outputs": [
        {
          "output_type": "stream",
          "name": "stdout",
          "text": [
            "Train set of features:  (160, 3)\n",
            "Test set of features:  (40, 3)\n",
            "Target for train:  (160, 1)\n",
            "Target for test:  (40, 1)\n"
          ]
        }
      ],
      "source": [
        "# Splitting data for training the model and testing the model\n",
        "# train size taken as 0.8\n",
        "X_train, X_test, y_train, y_test = train_test_split(features, target, train_size = .8)\n",
        "# Dimensions of Train and Test Data sets\n",
        "print('Train set of features: ', X_train.shape)\n",
        "print('Test set of features: ', X_test.shape)\n",
        "print('Target for train: ', y_train.shape)\n",
        "print('Target for test: ', y_test.shape)"
      ]
    },
    {
      "cell_type": "markdown",
      "id": "a8f04eaa-94e2-44f9-8b44-46eb89d7f45f",
      "metadata": {
        "id": "a8f04eaa-94e2-44f9-8b44-46eb89d7f45f"
      },
      "source": [
        "### Learn the model on train data"
      ]
    },
    {
      "cell_type": "code",
      "execution_count": 35,
      "id": "008a282a-6b73-4417-9d4a-48fcd5ba07ba",
      "metadata": {
        "id": "008a282a-6b73-4417-9d4a-48fcd5ba07ba"
      },
      "outputs": [],
      "source": [
        "from sklearn.linear_model import LinearRegression"
      ]
    },
    {
      "cell_type": "code",
      "execution_count": 36,
      "id": "9d0d3f82-f76d-434e-bcc8-fe36b225d89a",
      "metadata": {
        "id": "9d0d3f82-f76d-434e-bcc8-fe36b225d89a"
      },
      "outputs": [],
      "source": [
        "# Linear Regression Model ( a Supervised Machine learning Algorithm)\n",
        "# LR models impose a linear function between predictor and response variables\n",
        "my_model = LinearRegression()"
      ]
    },
    {
      "cell_type": "code",
      "execution_count": 37,
      "id": "e7813ec3-5971-4486-bd24-17c23f9d7a48",
      "metadata": {
        "colab": {
          "base_uri": "https://localhost:8080/",
          "height": 75
        },
        "id": "e7813ec3-5971-4486-bd24-17c23f9d7a48",
        "outputId": "c8889d9e-0a64-4387-dd37-4e7455d700d1"
      },
      "outputs": [
        {
          "output_type": "execute_result",
          "data": {
            "text/plain": [
              "LinearRegression()"
            ],
            "text/html": [
              "<style>#sk-container-id-1 {color: black;background-color: white;}#sk-container-id-1 pre{padding: 0;}#sk-container-id-1 div.sk-toggleable {background-color: white;}#sk-container-id-1 label.sk-toggleable__label {cursor: pointer;display: block;width: 100%;margin-bottom: 0;padding: 0.3em;box-sizing: border-box;text-align: center;}#sk-container-id-1 label.sk-toggleable__label-arrow:before {content: \"▸\";float: left;margin-right: 0.25em;color: #696969;}#sk-container-id-1 label.sk-toggleable__label-arrow:hover:before {color: black;}#sk-container-id-1 div.sk-estimator:hover label.sk-toggleable__label-arrow:before {color: black;}#sk-container-id-1 div.sk-toggleable__content {max-height: 0;max-width: 0;overflow: hidden;text-align: left;background-color: #f0f8ff;}#sk-container-id-1 div.sk-toggleable__content pre {margin: 0.2em;color: black;border-radius: 0.25em;background-color: #f0f8ff;}#sk-container-id-1 input.sk-toggleable__control:checked~div.sk-toggleable__content {max-height: 200px;max-width: 100%;overflow: auto;}#sk-container-id-1 input.sk-toggleable__control:checked~label.sk-toggleable__label-arrow:before {content: \"▾\";}#sk-container-id-1 div.sk-estimator input.sk-toggleable__control:checked~label.sk-toggleable__label {background-color: #d4ebff;}#sk-container-id-1 div.sk-label input.sk-toggleable__control:checked~label.sk-toggleable__label {background-color: #d4ebff;}#sk-container-id-1 input.sk-hidden--visually {border: 0;clip: rect(1px 1px 1px 1px);clip: rect(1px, 1px, 1px, 1px);height: 1px;margin: -1px;overflow: hidden;padding: 0;position: absolute;width: 1px;}#sk-container-id-1 div.sk-estimator {font-family: monospace;background-color: #f0f8ff;border: 1px dotted black;border-radius: 0.25em;box-sizing: border-box;margin-bottom: 0.5em;}#sk-container-id-1 div.sk-estimator:hover {background-color: #d4ebff;}#sk-container-id-1 div.sk-parallel-item::after {content: \"\";width: 100%;border-bottom: 1px solid gray;flex-grow: 1;}#sk-container-id-1 div.sk-label:hover label.sk-toggleable__label {background-color: #d4ebff;}#sk-container-id-1 div.sk-serial::before {content: \"\";position: absolute;border-left: 1px solid gray;box-sizing: border-box;top: 0;bottom: 0;left: 50%;z-index: 0;}#sk-container-id-1 div.sk-serial {display: flex;flex-direction: column;align-items: center;background-color: white;padding-right: 0.2em;padding-left: 0.2em;position: relative;}#sk-container-id-1 div.sk-item {position: relative;z-index: 1;}#sk-container-id-1 div.sk-parallel {display: flex;align-items: stretch;justify-content: center;background-color: white;position: relative;}#sk-container-id-1 div.sk-item::before, #sk-container-id-1 div.sk-parallel-item::before {content: \"\";position: absolute;border-left: 1px solid gray;box-sizing: border-box;top: 0;bottom: 0;left: 50%;z-index: -1;}#sk-container-id-1 div.sk-parallel-item {display: flex;flex-direction: column;z-index: 1;position: relative;background-color: white;}#sk-container-id-1 div.sk-parallel-item:first-child::after {align-self: flex-end;width: 50%;}#sk-container-id-1 div.sk-parallel-item:last-child::after {align-self: flex-start;width: 50%;}#sk-container-id-1 div.sk-parallel-item:only-child::after {width: 0;}#sk-container-id-1 div.sk-dashed-wrapped {border: 1px dashed gray;margin: 0 0.4em 0.5em 0.4em;box-sizing: border-box;padding-bottom: 0.4em;background-color: white;}#sk-container-id-1 div.sk-label label {font-family: monospace;font-weight: bold;display: inline-block;line-height: 1.2em;}#sk-container-id-1 div.sk-label-container {text-align: center;}#sk-container-id-1 div.sk-container {/* jupyter's `normalize.less` sets `[hidden] { display: none; }` but bootstrap.min.css set `[hidden] { display: none !important; }` so we also need the `!important` here to be able to override the default hidden behavior on the sphinx rendered scikit-learn.org. See: https://github.com/scikit-learn/scikit-learn/issues/21755 */display: inline-block !important;position: relative;}#sk-container-id-1 div.sk-text-repr-fallback {display: none;}</style><div id=\"sk-container-id-1\" class=\"sk-top-container\"><div class=\"sk-text-repr-fallback\"><pre>LinearRegression()</pre><b>In a Jupyter environment, please rerun this cell to show the HTML representation or trust the notebook. <br />On GitHub, the HTML representation is unable to render, please try loading this page with nbviewer.org.</b></div><div class=\"sk-container\" hidden><div class=\"sk-item\"><div class=\"sk-estimator sk-toggleable\"><input class=\"sk-toggleable__control sk-hidden--visually\" id=\"sk-estimator-id-1\" type=\"checkbox\" checked><label for=\"sk-estimator-id-1\" class=\"sk-toggleable__label sk-toggleable__label-arrow\">LinearRegression</label><div class=\"sk-toggleable__content\"><pre>LinearRegression()</pre></div></div></div></div></div>"
            ]
          },
          "metadata": {},
          "execution_count": 37
        }
      ],
      "source": [
        "# Fitting the model in train data set ie the Linear Regression Model learned from the on Train Data\n",
        "my_model.fit(X_train, y_train)"
      ]
    },
    {
      "cell_type": "markdown",
      "id": "548a71b9-8459-4d8d-a1a4-9d0f2eb5e1f9",
      "metadata": {
        "id": "548a71b9-8459-4d8d-a1a4-9d0f2eb5e1f9"
      },
      "source": [
        "#### Predicting the Sales"
      ]
    },
    {
      "cell_type": "code",
      "execution_count": 38,
      "id": "ad0d9910-2622-44dd-8009-ab5c7f0ae6db",
      "metadata": {
        "colab": {
          "base_uri": "https://localhost:8080/"
        },
        "id": "ad0d9910-2622-44dd-8009-ab5c7f0ae6db",
        "outputId": "27e99c6a-6b2a-4b2f-a110-f927a6a787b3"
      },
      "outputs": [
        {
          "output_type": "execute_result",
          "data": {
            "text/plain": [
              "array([[16.36195894],\n",
              "       [ 8.73351421],\n",
              "       [17.27133739],\n",
              "       [ 9.24397319],\n",
              "       [12.82182484],\n",
              "       [15.83433185],\n",
              "       [ 9.80232189],\n",
              "       [10.39720156],\n",
              "       [14.14540932],\n",
              "       [ 4.44824304],\n",
              "       [13.67562555],\n",
              "       [18.99990222],\n",
              "       [14.42570395],\n",
              "       [18.93186955],\n",
              "       [13.39311224],\n",
              "       [13.8893733 ],\n",
              "       [ 5.6855441 ],\n",
              "       [12.71970458],\n",
              "       [16.86249823],\n",
              "       [17.05296663],\n",
              "       [17.29848388],\n",
              "       [20.67769177],\n",
              "       [18.17939665],\n",
              "       [12.12194874],\n",
              "       [23.35812051],\n",
              "       [21.06807274],\n",
              "       [ 9.73145098],\n",
              "       [15.89163527],\n",
              "       [15.25472296],\n",
              "       [16.4255297 ],\n",
              "       [18.50374882],\n",
              "       [13.49831776],\n",
              "       [15.00519288],\n",
              "       [16.79360611],\n",
              "       [14.90954472],\n",
              "       [ 4.38248275],\n",
              "       [ 5.25572673],\n",
              "       [10.62675097],\n",
              "       [15.07776291],\n",
              "       [12.72126008]])"
            ]
          },
          "metadata": {},
          "execution_count": 38
        }
      ],
      "source": [
        "# Predicting the sales from Feature Test values\n",
        "y_pred = my_model.predict(X_test)\n",
        "y_pred"
      ]
    },
    {
      "cell_type": "markdown",
      "id": "ee8cb040-85e1-4780-9833-f42b744e23dd",
      "metadata": {
        "id": "ee8cb040-85e1-4780-9833-f42b744e23dd"
      },
      "source": [
        "#### Test the model"
      ]
    },
    {
      "cell_type": "code",
      "execution_count": 39,
      "id": "961de7a6-a934-41ca-b3c6-81b0245c5563",
      "metadata": {
        "id": "961de7a6-a934-41ca-b3c6-81b0245c5563"
      },
      "outputs": [],
      "source": [
        "from sklearn.metrics import mean_squared_error"
      ]
    },
    {
      "cell_type": "markdown",
      "id": "745a91cd-82b7-493c-bdc9-37c7cf7cd1f0",
      "metadata": {
        "id": "745a91cd-82b7-493c-bdc9-37c7cf7cd1f0"
      },
      "source": [
        "##### Mean Squared Error"
      ]
    },
    {
      "cell_type": "code",
      "execution_count": 40,
      "id": "583cf017-d93c-47ed-9bd9-bd0ce6fe3164",
      "metadata": {
        "colab": {
          "base_uri": "https://localhost:8080/"
        },
        "id": "583cf017-d93c-47ed-9bd9-bd0ce6fe3164",
        "outputId": "809d6e5d-4794-40e0-8096-86c15d6e0c3b"
      },
      "outputs": [
        {
          "output_type": "execute_result",
          "data": {
            "text/plain": [
              "2.325322575477163"
            ]
          },
          "metadata": {},
          "execution_count": 40
        }
      ],
      "source": [
        "# Compare the predicted values with the true values\n",
        "mean_squared_error(y_pred, y_test)"
      ]
    },
    {
      "cell_type": "markdown",
      "id": "16797cf7-1e02-4f31-b9d9-f724433fcbca",
      "metadata": {
        "id": "16797cf7-1e02-4f31-b9d9-f724433fcbca"
      },
      "source": [
        "##### Coefficient of Determination or R Squared Value (r2)"
      ]
    },
    {
      "cell_type": "code",
      "execution_count": 41,
      "id": "7ad2c68e-5fa7-4303-bd1c-ee0211c16783",
      "metadata": {
        "id": "7ad2c68e-5fa7-4303-bd1c-ee0211c16783"
      },
      "outputs": [],
      "source": [
        "from sklearn.metrics import r2_score"
      ]
    },
    {
      "cell_type": "code",
      "execution_count": 42,
      "id": "ec68ff13-e122-4112-88b1-f7e077dc4ee6",
      "metadata": {
        "colab": {
          "base_uri": "https://localhost:8080/"
        },
        "id": "ec68ff13-e122-4112-88b1-f7e077dc4ee6",
        "outputId": "f0b7c0f5-5fc9-42a6-8901-6f8c6bfeea1d"
      },
      "outputs": [
        {
          "output_type": "execute_result",
          "data": {
            "text/plain": [
              "0.8739524215813842"
            ]
          },
          "metadata": {},
          "execution_count": 42
        }
      ],
      "source": [
        "# find Coefficient of Determination or R Squared Value (r2)\n",
        "r2_score(y_test,y_pred)"
      ]
    }
  ],
  "metadata": {
    "kernelspec": {
      "display_name": "Python 3",
      "language": "python",
      "name": "python3"
    },
    "language_info": {
      "codemirror_mode": {
        "name": "ipython",
        "version": 3
      },
      "file_extension": ".py",
      "mimetype": "text/x-python",
      "name": "python",
      "nbconvert_exporter": "python",
      "pygments_lexer": "ipython3",
      "version": "3.8.8"
    },
    "colab": {
      "provenance": []
    }
  },
  "nbformat": 4,
  "nbformat_minor": 5
}